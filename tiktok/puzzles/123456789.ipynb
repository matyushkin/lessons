{
 "cells": [
  {
   "cell_type": "markdown",
   "metadata": {},
   "source": [
    "Условие головоломки подробно описано в [паблике python_ds](https://vk.com/@python_ds-golovolomka-pro-123456789-i-100).\n",
    "\n",
    "Представим наших героев, строку цифр и символы, которые могут стоять между ними."
   ]
  },
  {
   "cell_type": "code",
   "execution_count": null,
   "metadata": {},
   "outputs": [],
   "source": [
    "digits = list('123456789')\n",
    "signs = ('', '+', '-', '*', '/')"
   ]
  },
  {
   "cell_type": "markdown",
   "metadata": {},
   "source": [
    "Для размещения символов между 9 цифр есть 8 позиций. Фактически имеем декартово произедение этих 8 позиций и 5 возможных символов. Используем функцию `product` модуля `itertools` из стандартной библиотеки:"
   ]
  },
  {
   "cell_type": "code",
   "execution_count": null,
   "metadata": {},
   "outputs": [],
   "source": [
    "from itertools import product\n",
    "\n",
    "L = [a+b for (a, b) in product(digits[:-1], signs)]\n",
    "L = [L[i:i+5] for i in range(0, len(L), 5)]\n",
    "\n",
    "# после последней цифры не может быть символа операции\n",
    "L = L + [['9']]"
   ]
  },
  {
   "cell_type": "code",
   "execution_count": null,
   "metadata": {},
   "outputs": [],
   "source": [
    "L"
   ]
  },
  {
   "cell_type": "markdown",
   "metadata": {},
   "source": [
    "Далее повторяем процедуру нахождения произведений уже для этих 9 групп:"
   ]
  },
  {
   "cell_type": "code",
   "execution_count": null,
   "metadata": {},
   "outputs": [],
   "source": [
    "list(product(*L))[:20]"
   ]
  },
  {
   "cell_type": "code",
   "execution_count": null,
   "metadata": {},
   "outputs": [],
   "source": [
    "digits = list('123456789')\n",
    "signs = ('', '+', '-', '*', '/')\n",
    "\n",
    "L = [a+b for (a, b) in product(digits[:-1], signs)]\n",
    "L = [L[i:i+5] for i in range(0, len(L), 5)]\n",
    "L += [[digits[-1]]]\n",
    "\n",
    "def func(num):\n",
    "    expressions = []\n",
    "    \n",
    "    for p in product(*L):\n",
    "        expr = \"\".join(p)\n",
    "        if eval(expr) == num:\n",
    "            expressions.append(expr)\n",
    "    \n",
    "    return {\"count\": len(expressions),\n",
    "            \"expressions\": expressions}"
   ]
  },
  {
   "cell_type": "code",
   "execution_count": null,
   "metadata": {
    "tags": []
   },
   "outputs": [],
   "source": [
    "func(100)"
   ]
  },
  {
   "cell_type": "code",
   "execution_count": null,
   "metadata": {},
   "outputs": [],
   "source": []
  }
 ],
 "metadata": {
  "kernelspec": {
   "display_name": "Python 3",
   "language": "python",
   "name": "python3"
  },
  "language_info": {
   "codemirror_mode": {
    "name": "ipython",
    "version": 3
   },
   "file_extension": ".py",
   "mimetype": "text/x-python",
   "name": "python",
   "nbconvert_exporter": "python",
   "pygments_lexer": "ipython3",
   "version": "3.8.10"
  }
 },
 "nbformat": 4,
 "nbformat_minor": 4
}
