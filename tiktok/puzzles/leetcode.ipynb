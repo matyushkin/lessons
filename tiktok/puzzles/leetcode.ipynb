{
 "cells": [
  {
   "cell_type": "markdown",
   "id": "88c6e8e6-346f-4462-9b5d-fdfdf0d006f5",
   "metadata": {},
   "source": [
    "В этом блокноте я разбираю для себя и своих подписчиков ([vk](https://vk.com/python_ds), [telegram](https://t.me/leomatyushkin), [facebook](https://www.facebook.com/dspython)) задачи с сайтов вроде [leetcode.com](https://leetcode.com/). Разборы могут отклоняться в сторону различных вариаций. Для меня главное решить задачу в том виде, который бы я сам понимал. То есть я не ищу оптимальных решений. В блокноте мне главное выстроить и описать логику рассуждения.\n",
    "\n",
    "# 1. TwoSums\n",
    "\n",
    "**Задача**. Есть массив целых чисел `nums`, и только два числа из него дают в сумме число `target`. Напишите функцию, которая принимает `nums` и `target`, а возвращает индексы описанных чисел. Порядок вывода индексов значения не имеет.\n",
    "\n",
    "Примеры ввода и вывода:\n",
    "- **Input**: `nums = [2, 7, 11, 15], target = 9`\n",
    "- **Output**: `[0, 1]`\n",
    "\n",
    "- **Input**: `nums = [3, 2, 4], target = 6`\n",
    "- **Output**: `[1, 2]`\n",
    "\n",
    "- **Input**: `nums = [3, 3], target = 6`\n",
    "- **Output**: `[0, 1]`\n",
    "\n",
    "**Решение**. Мы могли бы рассмотреть все возможные пары, но это выглядит избыточно, так как нам указано, что пара всего одна. Очевидно, что для решения задачи достаточно один раз пройти по последовательности. Когда мы рассматриваем `i`-е число со значением `num`, мы точно знаем, *что* искать в остальной последовательности — число `target-num`. Ообозначим его через переменную `difference`. Однако возможна такая ситуация, что `difference` равно `num`, как во втором и третьем примерах. Мы должны учесть это при поиске. \n",
    "\n",
    "При таком рассуждении получается, что нужна структура данных, в которой мы бы могли удобным образом хранить пары чисел и индексов, чтобы при переборе последовательности мы сравнивали текущее значение с предыдущими числами. Давайте заведем словарь `checked`: в качестве ключа будет число `num`, а в качестве значения — индекс `i`. При обходе массива мы сверяемся со словарем: если для текущего числа `num` в словаре уже есть ключ в виде дополняющего числа `difference` получается, что мы уже знаем оба нужных индекса. Первый — это текущий индекс `i`, второй — это индекс, соответствующий ключу `difference`."
   ]
  },
  {
   "cell_type": "code",
   "execution_count": 13,
   "id": "2f73c72b-e2d4-4520-bfcb-8f45cadc52e1",
   "metadata": {},
   "outputs": [],
   "source": [
    "def twoSum(nums: list, target: int) -> list:\n",
    "    checked = dict()\n",
    "    for i, num in enumerate(nums):\n",
    "        difference = target - num\n",
    "        if difference in checked:\n",
    "            return sorted([i, checked[difference]])\n",
    "        else:\n",
    "            checked[num] = i"
   ]
  },
  {
   "cell_type": "code",
   "execution_count": 17,
   "id": "92f348ac-1af1-45cd-9af0-0fcd9f51361e",
   "metadata": {},
   "outputs": [
    {
     "data": {
      "text/plain": [
       "[0, 4]"
      ]
     },
     "execution_count": 17,
     "metadata": {},
     "output_type": "execute_result"
    }
   ],
   "source": [
    "twoSum([-6,0,7,11,15], 9)"
   ]
  },
  {
   "cell_type": "code",
   "execution_count": 11,
   "id": "b0c37371-0975-4a18-bbeb-085ccdf8bd62",
   "metadata": {},
   "outputs": [
    {
     "data": {
      "text/plain": [
       "[1, 2]"
      ]
     },
     "execution_count": 11,
     "metadata": {},
     "output_type": "execute_result"
    }
   ],
   "source": [
    "twoSum([3,2,4], 6)"
   ]
  },
  {
   "cell_type": "code",
   "execution_count": 12,
   "id": "17778740-0734-4be2-8afd-665af260a45d",
   "metadata": {},
   "outputs": [
    {
     "data": {
      "text/plain": [
       "[0, 1]"
      ]
     },
     "execution_count": 12,
     "metadata": {},
     "output_type": "execute_result"
    }
   ],
   "source": [
    "twoSum([3,3], 6)"
   ]
  }
 ],
 "metadata": {
  "kernelspec": {
   "display_name": "Python 3",
   "language": "python",
   "name": "python3"
  },
  "language_info": {
   "codemirror_mode": {
    "name": "ipython",
    "version": 3
   },
   "file_extension": ".py",
   "mimetype": "text/x-python",
   "name": "python",
   "nbconvert_exporter": "python",
   "pygments_lexer": "ipython3",
   "version": "3.9.1"
  }
 },
 "nbformat": 4,
 "nbformat_minor": 5
}
