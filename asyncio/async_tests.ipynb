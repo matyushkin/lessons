{
 "cells": [
  {
   "cell_type": "code",
   "execution_count": 1,
   "id": "2119a530-df89-41f6-be7e-38c68b7b450b",
   "metadata": {},
   "outputs": [],
   "source": [
    "async def my_coroutine() -> None:\n",
    "    print('Hello world!')\n"
   ]
  },
  {
   "cell_type": "code",
   "execution_count": 2,
   "id": "de8870ad-198b-4b92-aff0-95e80d9d96e6",
   "metadata": {},
   "outputs": [
    {
     "data": {
      "text/plain": [
       "<coroutine object my_coroutine at 0x1057268f0>"
      ]
     },
     "execution_count": 2,
     "metadata": {},
     "output_type": "execute_result"
    }
   ],
   "source": [
    "my_coroutine()"
   ]
  },
  {
   "cell_type": "code",
   "execution_count": 3,
   "id": "1851b6d7-322c-428e-b420-7357958377b4",
   "metadata": {},
   "outputs": [
    {
     "name": "stdout",
     "output_type": "stream",
     "text": [
      "2\n"
     ]
    }
   ],
   "source": [
    "import asyncio\n",
    "\n",
    "async def coroutine_add_one(number: int) -> int:\n",
    "    return number + 1\n",
    "\n",
    "result = await coroutine_add_one(1)\n",
    "\n",
    "print(result)"
   ]
  },
  {
   "cell_type": "code",
   "execution_count": 4,
   "id": "1ee48762-d62a-4ec3-9185-12b2cbc182b6",
   "metadata": {},
   "outputs": [
    {
     "name": "stdout",
     "output_type": "stream",
     "text": [
      "2\n",
      "3\n"
     ]
    }
   ],
   "source": [
    "async def main() -> None:\n",
    "    one_plus_one = await coroutine_add_one(1)\n",
    "    two_plus_one = await coroutine_add_one(2)\n",
    "    print(one_plus_one)\n",
    "    print(two_plus_one)\n",
    "\n",
    "await main()"
   ]
  },
  {
   "cell_type": "code",
   "execution_count": 5,
   "id": "405c3059-770d-4d93-95ca-19a04fb15515",
   "metadata": {},
   "outputs": [
    {
     "name": "stdout",
     "output_type": "stream",
     "text": [
      "Hello World!\n"
     ]
    }
   ],
   "source": [
    "async def hello_world_message() -> str:\n",
    "    await asyncio.sleep(1)\n",
    "    return 'Hello World!'\n",
    "\n",
    "async def main() -> None:\n",
    "    message = await hello_world_message()\n",
    "    print(message)\n",
    "\n",
    "await(main())"
   ]
  },
  {
   "cell_type": "code",
   "execution_count": 6,
   "id": "d15e2563-3355-4ef4-83bf-dc2258558c3e",
   "metadata": {},
   "outputs": [
    {
     "name": "stdout",
     "output_type": "stream",
     "text": [
      "засыпаю на 1 с\n",
      "сон в течение 1 с закончился\n",
      "2\n",
      "Hello World!\n"
     ]
    }
   ],
   "source": [
    "from util import delay\n",
    "\n",
    "async def add_one(number: int) -> int:\n",
    "    return number + 1\n",
    "\n",
    "async def hello_world_message() -> str:\n",
    "    await delay(1)\n",
    "    return 'Hello World!'\n",
    "\n",
    "async def main() -> None:\n",
    "    message = await hello_world_message()\n",
    "    one_plus_one = await add_one(1)\n",
    "    print(one_plus_one)\n",
    "    print(message)\n",
    "\n",
    "await main()"
   ]
  },
  {
   "cell_type": "code",
   "execution_count": null,
   "id": "e87f65b7-f224-4920-bbd5-8ae15514522f",
   "metadata": {},
   "outputs": [],
   "source": []
  }
 ],
 "metadata": {
  "kernelspec": {
   "display_name": "Python 3 (ipykernel)",
   "language": "python",
   "name": "python3"
  },
  "language_info": {
   "codemirror_mode": {
    "name": "ipython",
    "version": 3
   },
   "file_extension": ".py",
   "mimetype": "text/x-python",
   "name": "python",
   "nbconvert_exporter": "python",
   "pygments_lexer": "ipython3",
   "version": "3.10.10"
  }
 },
 "nbformat": 4,
 "nbformat_minor": 5
}
