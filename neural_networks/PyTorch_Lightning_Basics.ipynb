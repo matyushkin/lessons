{
 "cells": [
  {
   "cell_type": "markdown",
   "id": "46314d4f-95b6-4592-9e9c-76f7ab22550d",
   "metadata": {},
   "source": [
    "# PyTorch Ligthing Basics"
   ]
  },
  {
   "cell_type": "markdown",
   "id": "7eaa4101-886b-4504-bb45-7f1e6f5a209f",
   "metadata": {},
   "source": [
    "Адаптация статьи [Pytorch lightning. Simple is better](https://habr.com/ru/articles/586212/) со сравнением PyTorch и PyTorch Lightning для создания классификатора."
   ]
  },
  {
   "cell_type": "code",
   "execution_count": 1,
   "id": "d428e66e-e325-4968-89c6-fea056d48cf2",
   "metadata": {
    "tags": []
   },
   "outputs": [
    {
     "name": "stdout",
     "output_type": "stream",
     "text": [
      "Installing /opt/homebrew/lib/python3.11/site-packages/widgetsnbextension/static -> jupyter-js-widgets\n",
      "Up to date: /Users/leo/Library/Jupyter/nbextensions/jupyter-js-widgets/extension.js.LICENSE.txt\n",
      "Up to date: /Users/leo/Library/Jupyter/nbextensions/jupyter-js-widgets/extension.js.map\n",
      "Up to date: /Users/leo/Library/Jupyter/nbextensions/jupyter-js-widgets/extension.js\n",
      "- Validating: \u001b[32mOK\u001b[0m\n",
      "\n",
      "    To initialize this nbextension in the browser every time the notebook (or other app) loads:\n",
      "    \n",
      "          jupyter nbextension enable widgetsnbextension --user --py\n",
      "    \n",
      "Enabling notebook extension jupyter-js-widgets/extension...\n",
      "      - Validating: \u001b[32mOK\u001b[0m\n"
     ]
    }
   ],
   "source": [
    "import os\n",
    "import sys\n",
    "import multiprocessing\n",
    "import importlib\n",
    "from tqdm.notebook import tqdm\n",
    "\n",
    "libraries_aliases = {'torch': None,\n",
    "                      'torchvision': None,\n",
    "                      'tensorboardX': None,\n",
    "                      'lightning': None,\n",
    "                      'matplotlib.pyplot': 'plt'}\n",
    "\n",
    "\n",
    "def add_library_to_globals(library, alias):\n",
    "    module = importlib.import_module(library)\n",
    "    if alias:\n",
    "        globals()[alias] = module\n",
    "    else:\n",
    "        globals()[library.split('.')[-1]] = module\n",
    "\n",
    "\n",
    "for library, alias in libraries_aliases.items():\n",
    "    try:\n",
    "        add_library_to_globals(library, alias)\n",
    "    except ImportError:\n",
    "        # если не смогли импортировать, устанавливаем\n",
    "        !{sys.executable} -m pip install {library} --quiet\n",
    "        add_library_to_globals(library, alias)\n",
    "\n",
    "\n",
    "from torch import nn\n",
    "from torch.nn import functional as F\n",
    "from torch.utils.data import DataLoader\n",
    "from torchvision.datasets import MNIST\n",
    "from torchvision import transforms\n",
    "from lightning import Trainer\n",
    "\n",
    "!pip install jupyter_contrib_nbextensions --quiet\n",
    "!jupyter nbextension install --py widgetsnbextension --user\n",
    "!jupyter nbextension enable widgetsnbextension --user --py"
   ]
  },
  {
   "cell_type": "markdown",
   "id": "b96b5c9d-cbe5-4aab-81c8-3a3048ce8a55",
   "metadata": {
    "tags": []
   },
   "source": [
    "Настраиваем количество эпох обучения и SEED для сопоставимости результатов."
   ]
  },
  {
   "cell_type": "code",
   "execution_count": 3,
   "id": "1c9ca875-81b5-47ed-97b3-49d6c37a781e",
   "metadata": {
    "tags": []
   },
   "outputs": [
    {
     "name": "stderr",
     "output_type": "stream",
     "text": [
      "Global seed set to 42\n"
     ]
    },
    {
     "data": {
      "text/plain": [
       "42"
      ]
     },
     "execution_count": 3,
     "metadata": {},
     "output_type": "execute_result"
    }
   ],
   "source": [
    "EPOCHS = 10\n",
    "SEED = 42\n",
    "\n",
    "torch.random.manual_seed(42)\n",
    "lightning.seed_everything(42)"
   ]
  },
  {
   "cell_type": "code",
   "execution_count": 4,
   "id": "b3a4927a-f673-46fc-8175-7c7082291247",
   "metadata": {
    "tags": []
   },
   "outputs": [],
   "source": [
    "transforms_set=transforms.Compose(\n",
    "    [transforms.ToTensor(),\n",
    "    transforms.Normalize((0.1307,), (0.3081,))])"
   ]
  },
  {
   "cell_type": "code",
   "execution_count": 5,
   "id": "09ce79fa-b7d2-42c6-8329-221ff05be0c5",
   "metadata": {
    "tags": []
   },
   "outputs": [],
   "source": [
    "# Загрузка тренировочного датасета.\n",
    "train_data = MNIST(root=\"data\",\n",
    "                   train=True,\n",
    "                   download=True,\n",
    "                   transform=transforms_set)\n",
    "\n",
    "# Загрузка тестового датасета\n",
    "test_data = MNIST(root=\"data\",\n",
    "                  train=False,\n",
    "                  download=True,\n",
    "                  transform=transforms_set)"
   ]
  },
  {
   "cell_type": "code",
   "execution_count": 6,
   "id": "38e431b6-41d2-4b6d-8880-8687c7f97570",
   "metadata": {
    "tags": []
   },
   "outputs": [
    {
     "data": {
      "image/png": "[encoded data removed]",
      "text/plain": [
       "<Figure size 800x800 with 9 Axes>"
      ]
     },
     "metadata": {},
     "output_type": "display_data"
    }
   ],
   "source": [
    "labels_dict = {\n",
    "    0: \"0\",\n",
    "    1: \"1\",\n",
    "    2: \"2\",\n",
    "    3: \"3\",\n",
    "    4: \"4\",\n",
    "    5: \"5\",\n",
    "    6: \"6\",\n",
    "    7: \"7\",\n",
    "    8: \"8\",\n",
    "    9: \"9\",\n",
    "}\n",
    "\n",
    "fig = plt.figure(figsize=(8, 8))\n",
    "cols, rows = 3, 3\n",
    "for i in range(1, cols * rows + 1):\n",
    "    sample_index = torch.randint(len(train_data), size=(1,)).item()\n",
    "    img, label = train_data[sample_index]\n",
    "    fig.add_subplot(rows, cols, i)\n",
    "    plt.title(labels_dict[label])\n",
    "    plt.axis(\"off\")\n",
    "    plt.imshow(img.squeeze(), cmap=\"gray\")\n",
    "plt.show() "
   ]
  },
  {
   "cell_type": "code",
   "execution_count": 7,
   "id": "7905e225-a844-4a0e-8341-2011ebb7b46e",
   "metadata": {
    "tags": []
   },
   "outputs": [],
   "source": [
    "num_workers = multiprocessing.cpu_count()\n",
    "train_data_loader = DataLoader(train_data, batch_size=16, num_workers=num_workers)\n",
    "test_data_loader = DataLoader(test_data, batch_size=16, num_workers=num_workers)"
   ]
  },
  {
   "cell_type": "markdown",
   "id": "40dd7787-edce-4dce-810b-49630bc1a4ae",
   "metadata": {},
   "source": [
    "# Реализация на PyTorch"
   ]
  },
  {
   "cell_type": "code",
   "execution_count": null,
   "id": "64a0a359-60b6-4c05-9a29-311c6f84a19a",
   "metadata": {
    "tags": []
   },
   "outputs": [],
   "source": [
    "class Pytorch_MNIST_Classifier(nn.Module):\n",
    "    def __init__(self):\n",
    "        super(Pytorch_MNIST_Classifier, self).__init__()\n",
    "        # картинки датасета MNIST  c размером (1, 28, 28) (количество каналов, ширина, высота) \n",
    "        self.layer_1 = torch.nn.Linear(28 * 28, 64)\n",
    "        self.layer_2 = torch.nn.Linear(64, 32)\n",
    "        self.layer_3 = torch.nn.Linear(32, 10)\n",
    " \n",
    "    def forward(self, x):\n",
    "        batch_size, channels, width, height = x.size()\n",
    "\n",
    "        # (b, 1, 28, 28) -> (b, 1*28*28)\n",
    "        x = x.view(batch_size, -1)\n",
    "\n",
    "        # слой 1\n",
    "        x = self.layer_1(x)\n",
    "        x = torch.relu(x)\n",
    "\n",
    "        # слой 2\n",
    "        x = self.layer_2(x)\n",
    "        x = torch.relu(x)\n",
    "\n",
    "        # слой 3\n",
    "        x = self.layer_3(x)\n",
    "\n",
    "        # вероятность принадлежности к классу\n",
    "        x = torch.log_softmax(x, dim=1)\n",
    "\n",
    "        return x"
   ]
  },
  {
   "cell_type": "code",
   "execution_count": null,
   "id": "05146fbf-5fc9-4425-b957-7348848d862d",
   "metadata": {
    "tags": []
   },
   "outputs": [],
   "source": [
    "Pytorch_MNIST_model = Pytorch_MNIST_Classifier()\n",
    "# Оптимизатор и функция потерь\n",
    "optimizer = torch.optim.AdamW(Pytorch_MNIST_model.parameters(), lr=1e-3)\n",
    "loss_func = nn.CrossEntropyLoss()"
   ]
  },
  {
   "cell_type": "code",
   "execution_count": null,
   "id": "0560f2ff-81a4-4368-842c-437ddf2a2735",
   "metadata": {
    "tags": []
   },
   "outputs": [],
   "source": [
    "# Запускается тренировочный цикл\n",
    "for epoch in range(EPOCHS):\n",
    "    size = len(train_data_loader.dataset)\n",
    "    \n",
    "    # Загрузчик данных передает данные и их классы\n",
    "    for batch_num, (X, y) in enumerate(train_data_loader):\n",
    "\n",
    "        # Нейросеть обрабатывает данные и возвращает предсказания\n",
    "        pred = Pytorch_MNIST_model(X)\n",
    "        # Вычисляется функция потерь\n",
    "        loss = loss_func(pred, y)\n",
    "\n",
    "        # Обратным распространением обновляются веса в нейронах\n",
    "        optimizer.zero_grad()\n",
    "        loss.backward()\n",
    "        optimizer.step()\n",
    "\n",
    "        # Для наглядности печатаются значения функции потерь\n",
    "        if batch_num % 1000 == 0:\n",
    "            loss, current = loss.item(), batch_num * len(X)\n",
    "            print(f\"[{current:>5d}/{size:>5d}] loss: {loss:>7f}\")"
   ]
  },
  {
   "cell_type": "code",
   "execution_count": null,
   "id": "aed5ab93-f26d-43f3-92a3-da3b2c97d504",
   "metadata": {
    "tags": []
   },
   "outputs": [],
   "source": [
    " %%time\n",
    "size = len(test_data_loader.dataset)\n",
    "batches = len(test_data_loader)\n",
    "test_loss, correct = 0, 0\n",
    "\n",
    "# Модель переключается в режим оценки\n",
    "Pytorch_MNIST_model.eval()\n",
    "\n",
    "# Отключение вычисления градиентов\n",
    "with torch.no_grad():\n",
    "    # Запускается цикл тестирования\n",
    "    for X, y in test_data_loader:\n",
    "        # Нейросеть обрабатывает данные и возвращает предсказания\n",
    "        pred = Pytorch_MNIST_model(X)\n",
    "        # Складываются корректные предсказания\n",
    "        test_loss += loss_func(pred, y).item()\n",
    "        correct += (pred.argmax(1) == y).type(torch.float).sum().item()\n",
    "\n",
    "test_loss /= batches\n",
    "correct /= size\n",
    "\n",
    "# Вычисляется метрика качества\n",
    "print(f\"Test Error: \\n Accuracy: {(100*correct):>0.1f}%, Avg loss: {test_loss:>8f} \\n\")"
   ]
  },
  {
   "cell_type": "markdown",
   "id": "20ba6dbd-6235-47e6-aebf-a1400818befa",
   "metadata": {},
   "source": [
    "# Реализация на PyTorch Lightning"
   ]
  },
  {
   "cell_type": "code",
   "execution_count": 8,
   "id": "69a4113d-b837-440f-9661-c5f71fdf743a",
   "metadata": {
    "tags": []
   },
   "outputs": [],
   "source": [
    "class Pytorch_Lightning_MNIST_Classifier(lightning.LightningModule):\n",
    "    def __init__(self):\n",
    "        super().__init__()\n",
    "        # Задается архитектура нейросети\n",
    "        self.layers = nn.Sequential(\n",
    "          nn.Linear(28 * 28 * 1, 64),\n",
    "          nn.ReLU(),\n",
    "          nn.Linear(64, 32),\n",
    "          nn.ReLU(),\n",
    "          nn.Linear(32, 10)\n",
    "        )\n",
    "        # Объявляется функция потерь\n",
    "        self.loss_func = nn.CrossEntropyLoss()\n",
    "\n",
    "    def forward(self, x):\n",
    "        return self.layers(x)\n",
    "\n",
    "    # Настраиваются параметры обучения\n",
    "    def training_step(self, batch, batch_idx):\n",
    "        x, y = batch\n",
    "        x = x.view(x.size(0), -1)\n",
    "        pred = self.layers(x)\n",
    "        loss = self.loss_func(pred, y)\n",
    "        self.log('train_loss', loss)\n",
    "        return loss\n",
    "\n",
    "    # Настраиваются параметры тестирования\n",
    "    def test_step(self, batch, batch_idx):\n",
    "        x, y = batch\n",
    "        x = x.view(x.size(0), -1)\n",
    "        pred = self.layers(x)\n",
    "        loss = self.loss_func(pred, y)\n",
    "        pred = torch.argmax(pred, dim=1)\n",
    "        accuracy = torch.sum(y == pred).item() / (len(y) * 1.0)\n",
    "        self.log('test_loss', loss, prog_bar=True)\n",
    "        self.log('test_acc', torch.tensor(accuracy), prog_bar=True)\n",
    "        output = dict({\n",
    "            'test_loss': loss,\n",
    "            'test_acc': torch.tensor(accuracy),\n",
    "        })\n",
    "        return output\n",
    "\n",
    "    # Конфигурируется оптимизатор\n",
    "    def configure_optimizers(self):\n",
    "        optimizer = torch.optim.Adam(self.parameters(), lr=1e-4)\n",
    "        return optimizer"
   ]
  },
  {
   "cell_type": "code",
   "execution_count": null,
   "id": "58f65992-f3cd-4284-b232-21d163eb1d49",
   "metadata": {
    "tags": []
   },
   "outputs": [
    {
     "name": "stderr",
     "output_type": "stream",
     "text": [
      "GPU available: True (mps), used: True\n",
      "TPU available: False, using: 0 TPU cores\n",
      "IPU available: False, using: 0 IPUs\n",
      "HPU available: False, using: 0 HPUs\n",
      "\n",
      "  | Name      | Type             | Params\n",
      "-----------------------------------------------\n",
      "0 | layers    | Sequential       | 52.6 K\n",
      "1 | loss_func | CrossEntropyLoss | 0     \n",
      "-----------------------------------------------\n",
      "52.6 K    Trainable params\n",
      "0         Non-trainable params\n",
      "52.6 K    Total params\n",
      "0.211     Total estimated model params size (MB)\n"
     ]
    },
    {
     "data": {
      "application/vnd.jupyter.widget-view+json": {
       "model_id": "fec850dc814646df8d70dee2743e74d3",
       "version_major": 2,
       "version_minor": 0
      },
      "text/plain": [
       "Training: 0it [00:00, ?it/s]"
      ]
     },
     "metadata": {},
     "output_type": "display_data"
    }
   ],
   "source": [
    "from lightning.pytorch.callbacks import TQDMProgressBar\n",
    "\n",
    "# Инициализация модели и функции Trainer\n",
    "\n",
    "Pytorch_lightning_MNIST_model = Pytorch_Lightning_MNIST_Classifier()\n",
    "trainer = lightning.Trainer(max_epochs=EPOCHS, callbacks=[TQDMProgressBar()])\n",
    "\n",
    "# Обучение модели\n",
    "trainer.fit(Pytorch_lightning_MNIST_model, train_data_loader)\n",
    "\n",
    "# Тестирование модели\n",
    "trainer.test(Pytorch_lightning_MNIST_model, test_data_loader)"
   ]
  }
 ],
 "metadata": {
  "kernelspec": {
   "display_name": "Python 3 (ipykernel)",
   "language": "python",
   "name": "python3"
  },
  "language_info": {
   "codemirror_mode": {
    "name": "ipython",
    "version": 3
   },
   "file_extension": ".py",
   "mimetype": "text/x-python",
   "name": "python",
   "nbconvert_exporter": "python",
   "pygments_lexer": "ipython3",
   "version": "3.11.3"
  }
 },
 "nbformat": 4,
 "nbformat_minor": 5
}
