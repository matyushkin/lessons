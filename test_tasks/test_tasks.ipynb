{
 "cells": [
  {
   "cell_type": "markdown",
   "metadata": {},
   "source": [
    "Написать функцию, строящую дерево по списку пар `id` (`id` родителя, `id` потомка), где `None` - `id` корневого узла.\n",
    "\n",
    "Пример работы:"
   ]
  },
  {
   "cell_type": "code",
   "execution_count": 2,
   "metadata": {},
   "outputs": [],
   "source": [
    "source = [\n",
    "    (None, 'a'),\n",
    "    (None, 'b'),\n",
    "    (None, 'c'),\n",
    "    ('a', 'a1'),\n",
    "    ('a', 'a2'),\n",
    "    ('a2', 'a21'),\n",
    "    ('a2', 'a22'),\n",
    "    ('b', 'b1'),\n",
    "    ('b1', 'b11'),\n",
    "    ('b11', 'b111'),\n",
    "    ('b', 'b2'),\n",
    "    ('c', 'c1'),\n",
    "]\n",
    "\n",
    "expected = {\n",
    "    'a': {'a1': {}, 'a2': {'a21': {}, 'a22': {}}},\n",
    "    'b': {'b1': {'b11': {'b111': {}}}, 'b2': {}},\n",
    "    'c': {'c1': {}},\n",
    "}"
   ]
  },
  {
   "cell_type": "code",
   "execution_count": 8,
   "metadata": {},
   "outputs": [
    {
     "name": "stdout",
     "output_type": "stream",
     "text": [
      "None a\n",
      "None b\n",
      "None c\n",
      "a a1\n",
      "a a2\n",
      "a2 a21\n",
      "a2 a22\n",
      "b b1\n",
      "b1 b11\n",
      "b11 b111\n",
      "b b2\n",
      "c c1\n"
     ]
    }
   ],
   "source": [
    "from typing import Dict, Any\n",
    "\n",
    "def to_tree(source: list) -> Dict[str, Any]:\n",
    "    tmp = dict()\n",
    "    for (parent, child) in source:\n",
    "        \n",
    "\n",
    "to_tree(source)"
   ]
  },
  {
   "cell_type": "code",
   "execution_count": 72,
   "metadata": {},
   "outputs": [
    {
     "data": {
      "text/plain": [
       "{'a': {'a1': {}, 'a2': {'a21': {}, 'a22': {}}},\n",
       " 'b': {'b1': {'b11': {'b111': {}}}, 'b2': {}},\n",
       " 'c': {'c1': {}}}"
      ]
     },
     "execution_count": 72,
     "metadata": {},
     "output_type": "execute_result"
    }
   ],
   "source": [
    "def to_tree(source):\n",
    "    has_parent = set()\n",
    "    nodes = {}\n",
    "\n",
    "    for parent, child in source:\n",
    "        if parent == None:\n",
    "            continue\n",
    "        if parent not in nodes:\n",
    "            nodes[parent] = {}\n",
    "        if child not in nodes:\n",
    "            nodes[child] = {}\n",
    "        nodes[parent][child] = nodes[child]\n",
    "        has_parent.add(child)\n",
    "    \n",
    "    result = {k:v for k,v in nodes.items() if k not in has_parent}\n",
    "    \n",
    "    return result\n",
    "\n",
    "\n",
    "assert to_tree(source) == expected\n",
    "to_tree(source)"
   ]
  },
  {
   "cell_type": "code",
   "execution_count": null,
   "metadata": {},
   "outputs": [],
   "source": []
  }
 ],
 "metadata": {
  "kernelspec": {
   "display_name": "Python 3.9.6 64-bit",
   "language": "python",
   "name": "python3"
  },
  "language_info": {
   "codemirror_mode": {
    "name": "ipython",
    "version": 3
   },
   "file_extension": ".py",
   "mimetype": "text/x-python",
   "name": "python",
   "nbconvert_exporter": "python",
   "pygments_lexer": "ipython3",
   "version": "3.9.6"
  },
  "orig_nbformat": 4,
  "vscode": {
   "interpreter": {
    "hash": "31f2aee4e71d21fbe5cf8b01ff0e069b9275f58929596ceb00d14d90e3e16cd6"
   }
  }
 },
 "nbformat": 4,
 "nbformat_minor": 2
}
