{
 "cells": [
  {
   "cell_type": "markdown",
   "metadata": {},
   "source": [
    "1. Написать функцию, строящую дерево по списку пар `id` (`id` родителя, `id` потомка), где `None` - `id` корневого узла.\n",
    "\n",
    "Пример работы:"
   ]
  },
  {
   "cell_type": "code",
   "execution_count": 77,
   "metadata": {},
   "outputs": [],
   "source": [
    "from typing import Dict, Any\n",
    "\n",
    "source = [\n",
    "    (None, 'a'),\n",
    "    (None, 'b'),\n",
    "    (None, 'c'),\n",
    "    ('a', 'a1'),\n",
    "    ('a', 'a2'),\n",
    "    ('a2', 'a21'),\n",
    "    ('a2', 'a22'),\n",
    "    ('b', 'b1'),\n",
    "    ('b1', 'b11'),\n",
    "    ('b11', 'b111'),\n",
    "    ('b', 'b2'),\n",
    "    ('c', 'c1'),\n",
    "]\n",
    "\n",
    "expected = {\n",
    "    'a': {'a1': {}, 'a2': {'a21': {}, 'a22': {}}},\n",
    "    'b': {'b1': {'b11': {'b111': {}}}, 'b2': {}},\n",
    "    'c': {'c1': {}},\n",
    "}"
   ]
  },
  {
   "cell_type": "markdown",
   "metadata": {},
   "source": [
    "1. Решение:"
   ]
  },
  {
   "cell_type": "code",
   "execution_count": 78,
   "metadata": {},
   "outputs": [
    {
     "data": {
      "text/plain": [
       "{'a': {'a1': {}, 'a2': {'a21': {}, 'a22': {}}},\n",
       " 'b': {'b1': {'b11': {'b111': {}}}, 'b2': {}},\n",
       " 'c': {'c1': {}}}"
      ]
     },
     "execution_count": 78,
     "metadata": {},
     "output_type": "execute_result"
    }
   ],
   "source": [
    "def to_tree(source: list) -> Dict[str, Any]:\n",
    "    \"\"\"Makes a dictionary from the list of pairs\n",
    "    (parent, child) corresponding to the tree\n",
    "    structure.\"\"\"\n",
    "    has_p = set()\n",
    "    n = {}\n",
    "\n",
    "    for parent, child in source:\n",
    "        if parent == None:\n",
    "            continue\n",
    "        if parent not in n:\n",
    "            n[parent] = {}\n",
    "        if child not in n:\n",
    "            n[child] = {}\n",
    "        n[parent][child] = n[child]\n",
    "        has_p.add(child)\n",
    "    \n",
    "    result = {k:v for k,v in n.items() if k not in has_p}\n",
    "    \n",
    "    return result\n",
    "\n",
    "\n",
    "assert to_tree(source) == expected\n",
    "to_tree(source)"
   ]
  },
  {
   "cell_type": "markdown",
   "metadata": {},
   "source": [
    "2. Написать функцию вида `your_function(s, k)`, которая выводитвсе варианты строки, в которой ровно `k` букв являются строчными.\n",
    "\n",
    "2. Решение:"
   ]
  },
  {
   "cell_type": "code",
   "execution_count": 115,
   "metadata": {},
   "outputs": [
    {
     "data": {
      "text/plain": [
       "['abCD', 'aBcD', 'aBCd', 'AbcD', 'AbCd', 'ABcd']"
      ]
     },
     "execution_count": 115,
     "metadata": {},
     "output_type": "execute_result"
    }
   ],
   "source": [
    "from itertools import combinations as C\n",
    "\n",
    "def your_function(s: str, k: int) -> list:\n",
    "    results = []\n",
    "    for seq in C(range(len(s)), k):\n",
    "        x = s[:]\n",
    "        for i in seq:\n",
    "            x = x[:i] + x[i].lower() + x[i+1:]\n",
    "        results.append(x)\n",
    "    return results\n",
    "\n",
    "your_function('ABCD', 2)\n",
    "\n"
   ]
  }
 ],
 "metadata": {
  "kernelspec": {
   "display_name": "Python 3.9.6 64-bit",
   "language": "python",
   "name": "python3"
  },
  "language_info": {
   "codemirror_mode": {
    "name": "ipython",
    "version": 3
   },
   "file_extension": ".py",
   "mimetype": "text/x-python",
   "name": "python",
   "nbconvert_exporter": "python",
   "pygments_lexer": "ipython3",
   "version": "3.9.6"
  },
  "orig_nbformat": 4,
  "vscode": {
   "interpreter": {
    "hash": "31f2aee4e71d21fbe5cf8b01ff0e069b9275f58929596ceb00d14d90e3e16cd6"
   }
  }
 },
 "nbformat": 4,
 "nbformat_minor": 2
}
